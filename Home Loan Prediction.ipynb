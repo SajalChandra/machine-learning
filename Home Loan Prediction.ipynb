{
 "cells": [
  {
   "cell_type": "code",
   "execution_count": null,
   "metadata": {},
   "outputs": [],
   "source": [
    "import warnings\n",
    "warnings.filterwarnings('ignore')\n",
    "warnings.simplefilter('ignore')\n",
    "\n",
    "import pandas as pd\n",
    "import numpy as np\n",
    "import matplotlib.pyplot as plt\n",
    "import seaborn as sns\n",
    "\n",
    "train = pd.read_csv('train_dummy.csv')\n",
    "test = pd.read_csv('test_dummy.csv')\n",
    "target = pd.read_csv('label.csv')\n",
    "df = pd.concat([train, test], axis=0)\n",
    "\n",
    "\n",
    "'''\n",
    "#is the applicant the only breadwinner in their household?\n",
    "df['Only_Earner'] = df['CoapplicantIncome'].apply(lambda x : 0 if x==0 else 1)\n",
    "#is the applicant the primary breadwinner in their household?\n",
    "df['Primary_Earner'] = (df['ApplicantIncome'] > df['CoapplicantIncome'])\n",
    "#what is the applicant's contribution to the household income\n",
    "df['Applicant_Earning_Share'] = df['ApplicantIncome'] / df['Total_Income']\n",
    "#what Fraction of the applicant's income is the loan amount?\n",
    "df['Loan_Fraction'] = df['LoanAmount'] / df['Total_Income']\n",
    "\n",
    "\n",
    "df['Primary_Earner'] = df['Primary_Earner'].map({True:1, False:0})\n",
    "\n",
    "def per_capita_income(x):\n",
    "    ctr = 1\n",
    "    if x['Married'] == 1:\n",
    "        ctr += 1\n",
    "    if x['Dependents_1'] == 1:\n",
    "        ctr += 1\n",
    "    elif x['Dependents_3+'] == 1:\n",
    "        ctr += 3\n",
    "    elif x['Dependents_0'] == 0:\n",
    "        ctr += 2\n",
    "    return x['Total_Income'] / ctr\n",
    "\n",
    "df['Per_Capita_Income'] = 0\n",
    "per_capita = []\n",
    "ptr=0\n",
    "for item in df['Per_Capita_Income']:\n",
    "    temp = per_capita_income(df.iloc[ptr, :])\n",
    "    per_capita.append(temp)\n",
    "    ptr += 1\n",
    "df['Per_Capita_Income'] = per_capita\n",
    "'''"
   ]
  },
  {
   "cell_type": "markdown",
   "metadata": {},
   "source": [
    "# MACHINE LEARNING"
   ]
  },
  {
   "cell_type": "code",
   "execution_count": null,
   "metadata": {},
   "outputs": [],
   "source": [
    "from sklearn.linear_model import LogisticRegression, LassoCV, SGDClassifier\n",
    "from sklearn.tree import DecisionTreeClassifier, ExtraTreeClassifier\n",
    "from sklearn.ensemble import RandomForestClassifier, AdaBoostClassifier, BaggingClassifier, GradientBoostingClassifier\n",
    "from sklearn.svm import SVC\n",
    "from sklearn.naive_bayes import GaussianNB, BernoulliNB\n",
    "from sklearn.neighbors import KNeighborsClassifier\n",
    "from sklearn.model_selection import GridSearchCV, cross_val_score, train_test_split\n",
    "from sklearn.neural_network import MLPClassifier\n",
    "from sklearn.metrics import f1_score, confusion_matrix, classification_report, accuracy_score\n",
    "from sklearn.decomposition import PCA\n",
    "from xgboost import XGBClassifier, XGBRFClassifier\n",
    "from lightgbm import LGBMClassifier\n",
    "from catboost import CatBoostClassifier\n",
    "\n",
    "x_train,x_test,y_train,y_test = train_test_split(x,y,test_size=0.13,shuffle=True)\n",
    "\n",
    "lr = LogisticRegression()\n",
    "sgdc = SGDClassifier()\n",
    "ada = AdaBoostClassifier()\n",
    "bag = BaggingClassifier()\n",
    "etc = ExtraTreeClassifier()\n",
    "gbc = GradientBoostingClassifier()\n",
    "rfc = RandomForestClassifier()\n",
    "gnb = GaussianNB()\n",
    "bnb = BernoulliNB()\n",
    "knn = KNeighborsClassifier()\n",
    "xgb = XGBClassifier()\n",
    "xgbr = XGBRFClassifier()\n",
    "lgb = LGBMClassifier()\n",
    "cat = CatBoostClassifier()\n",
    "\n",
    "models = [lr, ada, sgdc, bag, etc, gbc, rfc, \n",
    "           knn, gnb, bnb, xgb, xgbr, lgb, cat]\n"
   ]
  },
  {
   "cell_type": "code",
   "execution_count": null,
   "metadata": {},
   "outputs": [],
   "source": [
    "data = [x_train, y_train, x_test, y_test]"
   ]
  },
  {
   "cell_type": "code",
   "execution_count": null,
   "metadata": {},
   "outputs": [],
   "source": [
    "def run_model(model, data):\n",
    "    model.fit(data[0], data[1])\n",
    "    pred = model.predict(data[2])\n",
    "    score = accuracy_score(data[3], pred,)\n",
    "    return score"
   ]
  },
  {
   "cell_type": "code",
   "execution_count": null,
   "metadata": {},
   "outputs": [],
   "source": [
    "model_names = []\n",
    "model_performances = []\n",
    "\n",
    "for model in models:\n",
    "    perf = run_model(model, data)\n",
    "    model_performances.append(perf)\n",
    "    model_names.append(str(model.get_params).split('(')[0].split()[-1])\n",
    "    print(model_names[-1], model_performances[-1])\n",
    "    "
   ]
  },
  {
   "cell_type": "markdown",
   "metadata": {},
   "source": [
    "### Tuning the best performing models"
   ]
  },
  {
   "cell_type": "code",
   "execution_count": null,
   "metadata": {},
   "outputs": [],
   "source": [
    "#sns.barplot(model_performances, model_names)"
   ]
  },
  {
   "cell_type": "code",
   "execution_count": null,
   "metadata": {},
   "outputs": [],
   "source": [
    "gbc.fit(x, y)\n",
    "pred = gbc.predict(X)\n",
    "\n",
    "\n",
    "sub = pd.read_csv(\"sample_submission.csv\")\n",
    "sub['Loan_Status'] = pred\n",
    "sub.to_csv('Submission_13.csv', index=False)"
   ]
  },
  {
   "cell_type": "code",
   "execution_count": null,
   "metadata": {},
   "outputs": [],
   "source": [
    "def gridsearch(model, par):\n",
    "    grid_search = GridSearchCV(model, par, verbose=3, scoring='accuracy')\n",
    "    grid_search.fit(x_train, y_train)\n",
    "    print('Best Parameters: ',grid_search.best_params_)\n",
    "    print('Best Score: ',grid_search.best_score_)\n",
    "    print('Accuracy Score = ',run_model(grid_search.best_estimator_, data))"
   ]
  },
  {
   "cell_type": "code",
   "execution_count": null,
   "metadata": {
    "scrolled": true
   },
   "outputs": [],
   "source": [
    "AdaBoostClassifier()\n",
    "params_ada = {'n_estimators':[10,50,100,500,1000,10000], 'learning_rate':[0.001,0.005,0.01,0.05]}\n",
    "gridsearch(ada, params_ada)"
   ]
  },
  {
   "cell_type": "code",
   "execution_count": null,
   "metadata": {},
   "outputs": [],
   "source": [
    "run_model(AdaBoostClassifier(learning_rate=0.5, n_estimators=500), data)"
   ]
  },
  {
   "cell_type": "code",
   "execution_count": null,
   "metadata": {},
   "outputs": [],
   "source": [
    "run_model(ada, data)"
   ]
  },
  {
   "cell_type": "code",
   "execution_count": null,
   "metadata": {},
   "outputs": [],
   "source": [
    "GradientBoostingClassifier()\n",
    "params_gbc = {'n_estimators':[10,50,100,500,1000], 'learning_rate':[0.01,0.1,0.5,0.9,1], 'max_depth':[3,5,7,10,15],\n",
    "              'tol':[0.00001,0.0001,0.001,0.01,0.1,0.5]}\n",
    "gridsearch(gbc, params_gbc)"
   ]
  },
  {
   "cell_type": "code",
   "execution_count": null,
   "metadata": {},
   "outputs": [],
   "source": [
    "XGBRFClassifier()\n",
    "\n",
    "params_xgbrfc = {'booster':['gbtree','gblinear','dart'], 'n_estimators':[10,50,100,500,1000,5000],\n",
    "\n",
    "                 'max_depth':[3,5,7,9,13,15], 'learning_rate':[0.01,0.1,0.5,1,1.5]}\n",
    "gridsearch(xgbr, params_xgbrfc)"
   ]
  },
  {
   "cell_type": "code",
   "execution_count": null,
   "metadata": {},
   "outputs": [],
   "source": [
    "cat_feats = ['Gender', 'Married', 'Education', 'Self_Employed', 'Credit_History',\n",
    "        'Dependents_0', 'Dependents_1', 'Dependents_3+',\n",
    "       'Property_Area_Rural', 'Property_Area_Semiurban', 'Property_Area_Urban',\n",
    "       'Only_Earner', 'Primary_Earner']\n",
    "fn = CatBoostClassifier(cat_features=cat_feats)\n",
    "params_cat ={'n_estimators':[100,500], 'depth':[3,5,7,10,15],\n",
    "            'learning_rate':[0.01,0.1,0.5,0.7], 'l2_leaf_reg':[3,7,12,20]}\n",
    "gridsearch(fn, params_cat)"
   ]
  },
  {
   "cell_type": "code",
   "execution_count": null,
   "metadata": {
    "scrolled": true
   },
   "outputs": [],
   "source": [
    "learn = []\n",
    "per = []\n",
    "for i in range(1, 100):\n",
    "    fn = CatBoostClassifier(cat_features=cat_feats, learning_rate=i/100)\n",
    "    per.append(run_model(fn, data))\n",
    "    learn.append(i)\n",
    "plt.plot(learn, per)"
   ]
  },
  {
   "cell_type": "code",
   "execution_count": null,
   "metadata": {},
   "outputs": [],
   "source": [
    "fn = CatBoostClassifier(cat_features=cat_feats, learning_rate=0.46)\n",
    "run_model(fn, data)\n"
   ]
  },
  {
   "cell_type": "code",
   "execution_count": null,
   "metadata": {},
   "outputs": [],
   "source": [
    "fn.fit(x, y)\n",
    "pred = fn.predict(X)\n",
    "\n",
    "\n",
    "sub = pd.read_csv(\"sample_submission.csv\")\n",
    "sub['Loan_Status'] = pred\n",
    "sub.to_csv('Submission_17.csv', index=False)"
   ]
  },
  {
   "cell_type": "code",
   "execution_count": null,
   "metadata": {},
   "outputs": [],
   "source": [
    "x['Credit_History'] = x['Credit_History'].apply(lambda x: str(x))\n",
    "X['Credit_History'] = X['Credit_History'].apply(lambda x: str(x))\n"
   ]
  },
  {
   "cell_type": "code",
   "execution_count": null,
   "metadata": {},
   "outputs": [],
   "source": [
    "fn.fit(x, y, cat_features=cat_feats)\n",
    "pred = fn.predict(X)\n",
    "\n",
    "\n",
    "sub = pd.read_csv(\"sample_submission.csv\")\n",
    "sub['Loan_Status'] = pred\n",
    "sub.to_csv('Submission_17.csv', index=False)"
   ]
  },
  {
   "cell_type": "code",
   "execution_count": null,
   "metadata": {},
   "outputs": [],
   "source": [
    "cat_feats = ['Gender', 'Married', 'Education', 'Self_Employed', 'Credit_History',\n",
    "        'Dependents_0', 'Dependents_1', 'Dependents_3+',\n",
    "       'Property_Area_Rural', 'Property_Area_Semiurban', 'Property_Area_Urban',\n",
    "       'Only_Earner', 'Primary_Earner']\n",
    "x_train['Credit_History'] = x_train['Credit_History'].apply(lambda x: str(x))\n",
    "x_test['Credit_History'] = x_test['Credit_History'].apply(lambda x: str(x))\n",
    "\n",
    "cat.fit(x_train, y_train, cat_features=cat_feats)\n",
    "p = cat.predict(x_test)\n",
    "print('\\nAccuracy = ', accuracy_score(y_test, p))"
   ]
  },
  {
   "cell_type": "code",
   "execution_count": null,
   "metadata": {},
   "outputs": [],
   "source": [
    "cat.fit(x, y, cat_features=cat_feats)\n",
    "pred = cat.predict(X)\n",
    "\n",
    "\n",
    "sub = pd.read_csv(\"sample_submission.csv\")\n",
    "sub['Loan_Status'] = pred\n",
    "sub.to_csv('Submission_14.csv', index=False)"
   ]
  },
  {
   "cell_type": "code",
   "execution_count": null,
   "metadata": {},
   "outputs": [],
   "source": [
    "\n",
    "bnb.fit(x, y,)\n",
    "pred = bnb.predict(X)\n",
    "\n",
    "\n",
    "sub = pd.read_csv(\"sample_submission.csv\")\n",
    "sub['Loan_Status'] = pred\n",
    "sub.to_csv('Submission_16.csv', index=False)"
   ]
  }
 ],
 "metadata": {
  "kernelspec": {
   "display_name": "Python 3",
   "language": "python",
   "name": "python3"
  },
  "language_info": {
   "codemirror_mode": {
    "name": "ipython",
    "version": 3
   },
   "file_extension": ".py",
   "mimetype": "text/x-python",
   "name": "python",
   "nbconvert_exporter": "python",
   "pygments_lexer": "ipython3",
   "version": "3.7.4"
  }
 },
 "nbformat": 4,
 "nbformat_minor": 2
}
